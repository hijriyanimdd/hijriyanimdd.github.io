{
  "cells": [
    {
      "cell_type": "markdown",
      "metadata": {
        "id": "view-in-github",
        "colab_type": "text"
      },
      "source": [
        "<a href=\"https://colab.research.google.com/github/hijriyanimdd/hijriyanimdd.github.io/blob/main/(Live_class_hands_on_notebook)_Descriptive_Statistics.ipynb\" target=\"_parent\"><img src=\"https://colab.research.google.com/assets/colab-badge.svg\" alt=\"Open In Colab\"/></a>"
      ]
    },
    {
      "cell_type": "code",
      "execution_count": null,
      "id": "eb85ac68",
      "metadata": {
        "id": "eb85ac68"
      },
      "outputs": [],
      "source": [
        "import pandas as pd\n",
        "import numpy as np\n",
        "from scipy import stats\n",
        "from scipy import mean\n",
        "from scipy import median\n",
        "import statistics"
      ]
    },
    {
      "cell_type": "code",
      "execution_count": null,
      "id": "9cf3fc41",
      "metadata": {
        "id": "9cf3fc41"
      },
      "outputs": [],
      "source": [
        "df = pd.read_csv('train.csv')"
      ]
    },
    {
      "cell_type": "code",
      "execution_count": null,
      "id": "8cf049bb",
      "metadata": {
        "id": "8cf049bb",
        "outputId": "5edaf185-e0cb-4051-b609-33d3851be48c"
      },
      "outputs": [
        {
          "data": {
            "text/html": [
              "<div>\n",
              "<style scoped>\n",
              "    .dataframe tbody tr th:only-of-type {\n",
              "        vertical-align: middle;\n",
              "    }\n",
              "\n",
              "    .dataframe tbody tr th {\n",
              "        vertical-align: top;\n",
              "    }\n",
              "\n",
              "    .dataframe thead th {\n",
              "        text-align: right;\n",
              "    }\n",
              "</style>\n",
              "<table border=\"1\" class=\"dataframe\">\n",
              "  <thead>\n",
              "    <tr style=\"text-align: right;\">\n",
              "      <th></th>\n",
              "      <th>PassengerId</th>\n",
              "      <th>Survived</th>\n",
              "      <th>Pclass</th>\n",
              "      <th>Name</th>\n",
              "      <th>Sex</th>\n",
              "      <th>Age</th>\n",
              "      <th>SibSp</th>\n",
              "      <th>Parch</th>\n",
              "      <th>Ticket</th>\n",
              "      <th>Fare</th>\n",
              "      <th>Cabin</th>\n",
              "      <th>Embarked</th>\n",
              "    </tr>\n",
              "  </thead>\n",
              "  <tbody>\n",
              "    <tr>\n",
              "      <th>0</th>\n",
              "      <td>1</td>\n",
              "      <td>0</td>\n",
              "      <td>3</td>\n",
              "      <td>Braund, Mr. Owen Harris</td>\n",
              "      <td>male</td>\n",
              "      <td>22.0</td>\n",
              "      <td>1</td>\n",
              "      <td>0</td>\n",
              "      <td>A/5 21171</td>\n",
              "      <td>7.2500</td>\n",
              "      <td>B96 B98</td>\n",
              "      <td>S</td>\n",
              "    </tr>\n",
              "    <tr>\n",
              "      <th>1</th>\n",
              "      <td>2</td>\n",
              "      <td>1</td>\n",
              "      <td>1</td>\n",
              "      <td>Cumings, Mrs. John Bradley (Florence Briggs Th...</td>\n",
              "      <td>female</td>\n",
              "      <td>38.0</td>\n",
              "      <td>1</td>\n",
              "      <td>0</td>\n",
              "      <td>PC 17599</td>\n",
              "      <td>71.2833</td>\n",
              "      <td>C85</td>\n",
              "      <td>C</td>\n",
              "    </tr>\n",
              "    <tr>\n",
              "      <th>2</th>\n",
              "      <td>3</td>\n",
              "      <td>1</td>\n",
              "      <td>3</td>\n",
              "      <td>Heikkinen, Miss. Laina</td>\n",
              "      <td>female</td>\n",
              "      <td>26.0</td>\n",
              "      <td>0</td>\n",
              "      <td>0</td>\n",
              "      <td>STON/O2. 3101282</td>\n",
              "      <td>7.9250</td>\n",
              "      <td>G6</td>\n",
              "      <td>S</td>\n",
              "    </tr>\n",
              "    <tr>\n",
              "      <th>3</th>\n",
              "      <td>4</td>\n",
              "      <td>1</td>\n",
              "      <td>1</td>\n",
              "      <td>Futrelle, Mrs. Jacques Heath (Lily May Peel)</td>\n",
              "      <td>female</td>\n",
              "      <td>35.0</td>\n",
              "      <td>1</td>\n",
              "      <td>0</td>\n",
              "      <td>113803</td>\n",
              "      <td>53.1000</td>\n",
              "      <td>C123</td>\n",
              "      <td>S</td>\n",
              "    </tr>\n",
              "    <tr>\n",
              "      <th>4</th>\n",
              "      <td>5</td>\n",
              "      <td>0</td>\n",
              "      <td>3</td>\n",
              "      <td>Allen, Mr. William Henry</td>\n",
              "      <td>male</td>\n",
              "      <td>35.0</td>\n",
              "      <td>0</td>\n",
              "      <td>0</td>\n",
              "      <td>373450</td>\n",
              "      <td>8.0500</td>\n",
              "      <td>others</td>\n",
              "      <td>S</td>\n",
              "    </tr>\n",
              "  </tbody>\n",
              "</table>\n",
              "</div>"
            ],
            "text/plain": [
              "   PassengerId  Survived  Pclass  \\\n",
              "0            1         0       3   \n",
              "1            2         1       1   \n",
              "2            3         1       3   \n",
              "3            4         1       1   \n",
              "4            5         0       3   \n",
              "\n",
              "                                                Name     Sex   Age  SibSp  \\\n",
              "0                            Braund, Mr. Owen Harris    male  22.0      1   \n",
              "1  Cumings, Mrs. John Bradley (Florence Briggs Th...  female  38.0      1   \n",
              "2                             Heikkinen, Miss. Laina  female  26.0      0   \n",
              "3       Futrelle, Mrs. Jacques Heath (Lily May Peel)  female  35.0      1   \n",
              "4                           Allen, Mr. William Henry    male  35.0      0   \n",
              "\n",
              "   Parch            Ticket     Fare    Cabin Embarked  \n",
              "0      0         A/5 21171   7.2500  B96 B98        S  \n",
              "1      0          PC 17599  71.2833      C85        C  \n",
              "2      0  STON/O2. 3101282   7.9250       G6        S  \n",
              "3      0            113803  53.1000     C123        S  \n",
              "4      0            373450   8.0500   others        S  "
            ]
          },
          "execution_count": 3,
          "metadata": {},
          "output_type": "execute_result"
        }
      ],
      "source": [
        "df.head()"
      ]
    },
    {
      "cell_type": "code",
      "execution_count": null,
      "id": "89ac7dfd",
      "metadata": {
        "id": "89ac7dfd",
        "outputId": "3d685995-3e3d-4c77-c3ea-d90b0340d5c2"
      },
      "outputs": [
        {
          "data": {
            "text/plain": [
              "PassengerId      int64\n",
              "Survived         int64\n",
              "Pclass           int64\n",
              "Name            object\n",
              "Sex             object\n",
              "Age            float64\n",
              "SibSp            int64\n",
              "Parch            int64\n",
              "Ticket          object\n",
              "Fare           float64\n",
              "Cabin           object\n",
              "Embarked        object\n",
              "dtype: object"
            ]
          },
          "execution_count": 4,
          "metadata": {},
          "output_type": "execute_result"
        }
      ],
      "source": [
        "df.dtypes"
      ]
    },
    {
      "cell_type": "code",
      "execution_count": null,
      "id": "4c9a1850",
      "metadata": {
        "id": "4c9a1850",
        "outputId": "b1b99fdf-7d54-4ef5-da26-8f3ba6bbe3e8"
      },
      "outputs": [
        {
          "data": {
            "text/plain": [
              "(891, 12)"
            ]
          },
          "execution_count": 5,
          "metadata": {},
          "output_type": "execute_result"
        }
      ],
      "source": [
        "df.shape"
      ]
    },
    {
      "cell_type": "markdown",
      "id": "114219cb",
      "metadata": {
        "id": "114219cb"
      },
      "source": [
        "### Measure of Central Tendency"
      ]
    },
    {
      "cell_type": "markdown",
      "id": "395b0b84",
      "metadata": {
        "id": "395b0b84"
      },
      "source": [
        "#### Mean"
      ]
    },
    {
      "cell_type": "code",
      "execution_count": null,
      "id": "f7a286b2",
      "metadata": {
        "id": "f7a286b2",
        "outputId": "a4d43cd8-0a41-4b46-9292-b72b6b8d2f08"
      },
      "outputs": [
        {
          "data": {
            "text/plain": [
              "29.69911764705882"
            ]
          },
          "execution_count": 6,
          "metadata": {},
          "output_type": "execute_result"
        }
      ],
      "source": [
        "df.Age.mean()"
      ]
    },
    {
      "cell_type": "code",
      "execution_count": null,
      "id": "f8fc5a78",
      "metadata": {
        "id": "f8fc5a78",
        "outputId": "eb67bff3-85d0-45c0-df7a-3fe477b0d0f7"
      },
      "outputs": [
        {
          "data": {
            "text/plain": [
              "29.69911764705882"
            ]
          },
          "execution_count": 9,
          "metadata": {},
          "output_type": "execute_result"
        }
      ],
      "source": [
        "df.Age.mean()"
      ]
    },
    {
      "cell_type": "code",
      "execution_count": null,
      "id": "11147959",
      "metadata": {
        "id": "11147959",
        "outputId": "9bed7a85-1658-440b-ca8b-17639edc8ca6"
      },
      "outputs": [
        {
          "data": {
            "text/plain": [
              "29.69911764705882"
            ]
          },
          "execution_count": 10,
          "metadata": {},
          "output_type": "execute_result"
        }
      ],
      "source": [
        "df['Age'].mean()"
      ]
    },
    {
      "cell_type": "code",
      "execution_count": null,
      "id": "823018ef",
      "metadata": {
        "id": "823018ef",
        "outputId": "b19a7e53-181b-4b9c-a4d1-7c2990a325ba"
      },
      "outputs": [
        {
          "data": {
            "text/plain": [
              "29.69911764705882"
            ]
          },
          "execution_count": 7,
          "metadata": {},
          "output_type": "execute_result"
        }
      ],
      "source": [
        "np.mean(df.Age)"
      ]
    },
    {
      "cell_type": "code",
      "execution_count": null,
      "id": "3c3f8b55",
      "metadata": {
        "id": "3c3f8b55",
        "outputId": "4100eb26-a0dd-490c-a949-d5d47d068991"
      },
      "outputs": [
        {
          "name": "stderr",
          "output_type": "stream",
          "text": [
            "C:\\Users\\Yustiana\\AppData\\Local\\Temp\\ipykernel_484\\1652082808.py:1: DeprecationWarning: scipy.mean is deprecated and will be removed in SciPy 2.0.0, use numpy.mean instead\n",
            "  mean(df.Age)\n"
          ]
        },
        {
          "data": {
            "text/plain": [
              "29.69911764705882"
            ]
          },
          "execution_count": 8,
          "metadata": {},
          "output_type": "execute_result"
        }
      ],
      "source": [
        "mean(df.Age)"
      ]
    },
    {
      "cell_type": "code",
      "execution_count": null,
      "id": "7b30a217",
      "metadata": {
        "id": "7b30a217",
        "outputId": "a4d8c939-180b-4b18-a5fb-754357abc0d8"
      },
      "outputs": [
        {
          "data": {
            "text/plain": [
              "32.204207968574636"
            ]
          },
          "execution_count": 35,
          "metadata": {},
          "output_type": "execute_result"
        }
      ],
      "source": [
        "df.Fare.mean()"
      ]
    },
    {
      "cell_type": "code",
      "execution_count": null,
      "id": "aa13d448",
      "metadata": {
        "id": "aa13d448",
        "outputId": "294d66df-d4c9-4902-9a3e-864134011d44"
      },
      "outputs": [
        {
          "data": {
            "text/plain": [
              "14.4542"
            ]
          },
          "execution_count": 36,
          "metadata": {},
          "output_type": "execute_result"
        }
      ],
      "source": [
        "df.Fare.median()"
      ]
    },
    {
      "cell_type": "code",
      "execution_count": null,
      "id": "24b2a911",
      "metadata": {
        "id": "24b2a911",
        "outputId": "70bb5c8c-1980-4f29-d465-ff33532bb58f"
      },
      "outputs": [
        {
          "data": {
            "text/plain": [
              "32.204207968574636"
            ]
          },
          "execution_count": 37,
          "metadata": {},
          "output_type": "execute_result"
        }
      ],
      "source": [
        "np.mean(df.Fare)"
      ]
    },
    {
      "cell_type": "markdown",
      "id": "dc2c8e43",
      "metadata": {
        "id": "dc2c8e43"
      },
      "source": [
        "#### Median"
      ]
    },
    {
      "cell_type": "code",
      "execution_count": null,
      "id": "fc0a41ce",
      "metadata": {
        "id": "fc0a41ce",
        "outputId": "6cf04128-2cd1-49a3-c8c3-60a972d26ab7"
      },
      "outputs": [
        {
          "data": {
            "text/plain": [
              "29.69911764705882"
            ]
          },
          "execution_count": 11,
          "metadata": {},
          "output_type": "execute_result"
        }
      ],
      "source": [
        "df.Age.median()"
      ]
    },
    {
      "cell_type": "code",
      "execution_count": null,
      "id": "c1be0ea7",
      "metadata": {
        "id": "c1be0ea7",
        "outputId": "5a0507d3-abfe-48a1-a4a4-73cd59255b0a"
      },
      "outputs": [
        {
          "data": {
            "text/plain": [
              "29.69911764705882"
            ]
          },
          "execution_count": 12,
          "metadata": {},
          "output_type": "execute_result"
        }
      ],
      "source": [
        "np.median(df.Age)"
      ]
    },
    {
      "cell_type": "code",
      "execution_count": null,
      "id": "a5bdee1c",
      "metadata": {
        "id": "a5bdee1c",
        "outputId": "f9b3e280-b4c2-4563-e1be-de2a36640d66"
      },
      "outputs": [
        {
          "name": "stderr",
          "output_type": "stream",
          "text": [
            "C:\\Users\\Yustiana\\AppData\\Local\\Temp\\ipykernel_484\\1515354405.py:1: DeprecationWarning: scipy.median is deprecated and will be removed in SciPy 2.0.0, use numpy.median instead\n",
            "  median(df.Age)\n"
          ]
        },
        {
          "data": {
            "text/plain": [
              "29.69911764705882"
            ]
          },
          "execution_count": 13,
          "metadata": {},
          "output_type": "execute_result"
        }
      ],
      "source": [
        "median(df.Age)"
      ]
    },
    {
      "cell_type": "markdown",
      "id": "a9ffc3f3",
      "metadata": {
        "id": "a9ffc3f3"
      },
      "source": [
        "#### Mode"
      ]
    },
    {
      "cell_type": "code",
      "execution_count": null,
      "id": "2bca7682",
      "metadata": {
        "scrolled": true,
        "id": "2bca7682",
        "outputId": "a91ae666-ce1b-4b94-cd97-53a23c361686"
      },
      "outputs": [
        {
          "data": {
            "text/plain": [
              "0    29.699118\n",
              "Name: Age, dtype: float64"
            ]
          },
          "execution_count": 14,
          "metadata": {},
          "output_type": "execute_result"
        }
      ],
      "source": [
        "df.Age.mode()"
      ]
    },
    {
      "cell_type": "code",
      "execution_count": null,
      "id": "cb550c44",
      "metadata": {
        "scrolled": false,
        "id": "cb550c44",
        "outputId": "fede1b2f-ffeb-4c73-e855-9b6158981aa6"
      },
      "outputs": [
        {
          "data": {
            "text/plain": [
              "ModeResult(mode=array([29.69911765]), count=array([177]))"
            ]
          },
          "execution_count": 15,
          "metadata": {},
          "output_type": "execute_result"
        }
      ],
      "source": [
        "stats.mode(df.Age)"
      ]
    },
    {
      "cell_type": "markdown",
      "id": "d5793895",
      "metadata": {
        "id": "d5793895"
      },
      "source": [
        ""
      ]
    },
    {
      "cell_type": "markdown",
      "id": "2709d397",
      "metadata": {
        "id": "2709d397"
      },
      "source": [
        "### Measure of Spread"
      ]
    },
    {
      "cell_type": "markdown",
      "id": "5d6f9c56",
      "metadata": {
        "id": "5d6f9c56"
      },
      "source": [
        "#### Quartile"
      ]
    },
    {
      "cell_type": "code",
      "execution_count": null,
      "id": "3d41627c",
      "metadata": {
        "id": "3d41627c",
        "outputId": "7127fb45-4016-4278-db00-83a67ab2b582"
      },
      "outputs": [
        {
          "data": {
            "text/plain": [
              "22.0"
            ]
          },
          "execution_count": 16,
          "metadata": {},
          "output_type": "execute_result"
        }
      ],
      "source": [
        "np.quantile(df.Age, 0.25)"
      ]
    },
    {
      "cell_type": "code",
      "execution_count": null,
      "id": "3814ac1e",
      "metadata": {
        "id": "3814ac1e",
        "outputId": "d4421981-d9a3-46f4-b819-246c28cdeed6"
      },
      "outputs": [
        {
          "data": {
            "text/plain": [
              "29.69911764705882"
            ]
          },
          "execution_count": 17,
          "metadata": {},
          "output_type": "execute_result"
        }
      ],
      "source": [
        "np.quantile(df.Age, 0.5)"
      ]
    },
    {
      "cell_type": "code",
      "execution_count": null,
      "id": "17c2813c",
      "metadata": {
        "id": "17c2813c",
        "outputId": "ff11fd54-76b2-4dfe-cb7f-fd3934f55460"
      },
      "outputs": [
        {
          "data": {
            "text/plain": [
              "35.0"
            ]
          },
          "execution_count": 18,
          "metadata": {},
          "output_type": "execute_result"
        }
      ],
      "source": [
        "np.quantile(df.Age, 0.75)"
      ]
    },
    {
      "cell_type": "markdown",
      "id": "209bd4d4",
      "metadata": {
        "id": "209bd4d4"
      },
      "source": [
        "#### Standard Deviation"
      ]
    },
    {
      "cell_type": "code",
      "execution_count": null,
      "id": "7c4417f4",
      "metadata": {
        "id": "7c4417f4",
        "outputId": "2b0ee75a-7264-49ba-d832-e15dab98e9e2"
      },
      "outputs": [
        {
          "data": {
            "text/plain": [
              "12.99471687278903"
            ]
          },
          "execution_count": 19,
          "metadata": {},
          "output_type": "execute_result"
        }
      ],
      "source": [
        "np.std(df.Age)"
      ]
    },
    {
      "cell_type": "markdown",
      "id": "2edd9189",
      "metadata": {
        "id": "2edd9189"
      },
      "source": [
        "#### Normal Curve"
      ]
    },
    {
      "cell_type": "code",
      "execution_count": null,
      "id": "b5fc092f",
      "metadata": {
        "id": "b5fc092f"
      },
      "outputs": [],
      "source": [
        "import seaborn as sns"
      ]
    },
    {
      "cell_type": "code",
      "execution_count": null,
      "id": "71c45152",
      "metadata": {
        "id": "71c45152",
        "outputId": "c1ee3cfe-5d78-4220-8aa4-c3f52cf8e1ca"
      },
      "outputs": [
        {
          "data": {
            "text/plain": [
              "<seaborn.axisgrid.FacetGrid at 0x1cec9b5a800>"
            ]
          },
          "execution_count": 21,
          "metadata": {},
          "output_type": "execute_result"
        },
        {
          "data": {
            "image/png": "[encoded data removed]",
            "text/plain": [
              "<Figure size 360x360 with 1 Axes>"
            ]
          },
          "metadata": {
            "needs_background": "light"
          },
          "output_type": "display_data"
        }
      ],
      "source": [
        "sns.displot(df, x=\"Age\", binwidth=3)"
      ]
    },
    {
      "cell_type": "code",
      "execution_count": null,
      "id": "c5ae0909",
      "metadata": {
        "id": "c5ae0909",
        "outputId": "e31b1ca1-a2be-4cb4-9c36-9db2ee96bf1d"
      },
      "outputs": [
        {
          "data": {
            "text/plain": [
              "<seaborn.axisgrid.FacetGrid at 0x1cef4bea680>"
            ]
          },
          "execution_count": 38,
          "metadata": {},
          "output_type": "execute_result"
        },
        {
          "data": {
            "image/png": "[encoded data removed]",
            "text/plain": [
              "<Figure size 500x500 with 1 Axes>"
            ]
          },
          "metadata": {},
          "output_type": "display_data"
        }
      ],
      "source": [
        "sns.displot(df, x=\"Fare\", binwidth=3)"
      ]
    },
    {
      "cell_type": "code",
      "execution_count": null,
      "id": "08929bfe",
      "metadata": {
        "id": "08929bfe",
        "outputId": "48b91bd1-6daa-4a4e-bcd3-d7ce65ebfbbe"
      },
      "outputs": [
        {
          "data": {
            "text/plain": [
              "<seaborn.axisgrid.FacetGrid at 0x1ceeafe6320>"
            ]
          },
          "execution_count": 22,
          "metadata": {},
          "output_type": "execute_result"
        },
        {
          "data": {
            "image/png": "[encoded data removed]",
            "text/plain": [
              "<Figure size 500x500 with 1 Axes>"
            ]
          },
          "metadata": {},
          "output_type": "display_data"
        }
      ],
      "source": [
        "sns.displot(df, x=\"Age\", kind=\"kde\", bw_adjust=2)"
      ]
    },
    {
      "cell_type": "code",
      "execution_count": null,
      "id": "f1014802",
      "metadata": {
        "id": "f1014802",
        "outputId": "f49e7336-ded2-47a2-82c5-5afbd0320abe"
      },
      "outputs": [
        {
          "data": {
            "text/plain": [
              "<seaborn.axisgrid.FacetGrid at 0x1cef4bea860>"
            ]
          },
          "execution_count": 39,
          "metadata": {},
          "output_type": "execute_result"
        },
        {
          "data": {
            "image/png": "[encoded data removed]",
            "text/plain": [
              "<Figure size 500x500 with 1 Axes>"
            ]
          },
          "metadata": {},
          "output_type": "display_data"
        }
      ],
      "source": [
        "sns.displot(df, x=\"Fare\", kind=\"kde\", bw_adjust=2)"
      ]
    },
    {
      "cell_type": "markdown",
      "id": "490c6637",
      "metadata": {
        "id": "490c6637"
      },
      "source": [
        "#### Z-Score"
      ]
    },
    {
      "cell_type": "code",
      "execution_count": null,
      "id": "50f70b8e",
      "metadata": {
        "id": "50f70b8e",
        "outputId": "ab051d33-8ddc-4509-e112-4d476f3a46e8"
      },
      "outputs": [
        {
          "data": {
            "text/plain": [
              "0     -0.592481\n",
              "1      0.638789\n",
              "2     -0.284663\n",
              "3      0.407926\n",
              "4      0.407926\n",
              "         ...   \n",
              "886   -0.207709\n",
              "887   -0.823344\n",
              "888    0.000000\n",
              "889   -0.284663\n",
              "890    0.177063\n",
              "Name: Age, Length: 891, dtype: float64"
            ]
          },
          "execution_count": 23,
          "metadata": {},
          "output_type": "execute_result"
        }
      ],
      "source": [
        "stats.zscore(df.Age)"
      ]
    },
    {
      "cell_type": "markdown",
      "id": "3f47c01a",
      "metadata": {
        "id": "3f47c01a"
      },
      "source": [
        "#### Expected Values"
      ]
    },
    {
      "cell_type": "code",
      "execution_count": null,
      "id": "4193542a",
      "metadata": {
        "id": "4193542a"
      },
      "outputs": [],
      "source": [
        "import numpy as np\n",
        "\n",
        "def expected_value(values, weights):\n",
        "    values = np.asarray(values)\n",
        "    weights = np.asarray(weights)\n",
        "    return (values * weights).sum() / weights.sum()"
      ]
    },
    {
      "cell_type": "code",
      "execution_count": null,
      "id": "72cf816e",
      "metadata": {
        "id": "72cf816e",
        "outputId": "9c748f1f-1492-4f5e-f0a0-710ed216fd91"
      },
      "outputs": [
        {
          "data": {
            "text/plain": [
              "1.4500000000000002"
            ]
          },
          "execution_count": 25,
          "metadata": {},
          "output_type": "execute_result"
        }
      ],
      "source": [
        "#define values\n",
        "values = [0, 1, 2, 3, 4]\n",
        "\n",
        "#define probabilities\n",
        "probs  = [.18, .34, .35, .11, .02]\n",
        "\n",
        "#calculate expected value\n",
        "expected_value(values, probs)"
      ]
    },
    {
      "cell_type": "markdown",
      "id": "1018219a",
      "metadata": {
        "id": "1018219a"
      },
      "source": [
        "#### Variance"
      ]
    },
    {
      "cell_type": "code",
      "execution_count": null,
      "id": "babf3d11",
      "metadata": {
        "id": "babf3d11",
        "outputId": "45101cda-1cc5-4fc4-e3ab-bc9c9495c8e8"
      },
      "outputs": [
        {
          "data": {
            "text/plain": [
              "169.05239993721085"
            ]
          },
          "execution_count": 27,
          "metadata": {},
          "output_type": "execute_result"
        }
      ],
      "source": [
        "statistics.variance(df.Age)"
      ]
    },
    {
      "cell_type": "code",
      "execution_count": null,
      "id": "97d99207",
      "metadata": {
        "id": "97d99207",
        "outputId": "0e642ba3-c398-4595-fdbe-76afc23fe9ec"
      },
      "outputs": [
        {
          "data": {
            "text/plain": [
              "169.0523999372108"
            ]
          },
          "execution_count": 28,
          "metadata": {},
          "output_type": "execute_result"
        }
      ],
      "source": [
        "df.Age.var()"
      ]
    },
    {
      "cell_type": "code",
      "execution_count": null,
      "id": "d043de6c",
      "metadata": {
        "id": "d043de6c",
        "outputId": "917a9e9c-3afd-4bd5-b519-e352efcedb24"
      },
      "outputs": [
        {
          "data": {
            "text/plain": [
              "169.0523999372108"
            ]
          },
          "execution_count": 34,
          "metadata": {},
          "output_type": "execute_result"
        }
      ],
      "source": [
        "np.var(df.Age, ddof=1)"
      ]
    }
  ],
  "metadata": {
    "kernelspec": {
      "display_name": "Python 3 (ipykernel)",
      "language": "python",
      "name": "python3"
    },
    "language_info": {
      "codemirror_mode": {
        "name": "ipython",
        "version": 3
      },
      "file_extension": ".py",
      "mimetype": "text/x-python",
      "name": "python",
      "nbconvert_exporter": "python",
      "pygments_lexer": "ipython3",
      "version": "3.10.5"
    },
    "colab": {
      "provenance": [],
      "include_colab_link": true
    }
  },
  "nbformat": 4,
  "nbformat_minor": 5
}